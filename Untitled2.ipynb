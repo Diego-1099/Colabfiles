{
  "nbformat": 4,
  "nbformat_minor": 0,
  "metadata": {
    "colab": {
      "provenance": [],
      "mount_file_id": "1txG2gle6laIqZdzYxLB6bfq2k6jSn1ue",
      "authorship_tag": "ABX9TyMrDKPI35C85+i0co3mcqLl",
      "include_colab_link": true
    },
    "kernelspec": {
      "name": "python3",
      "display_name": "Python 3"
    },
    "language_info": {
      "name": "python"
    }
  },
  "cells": [
    {
      "cell_type": "markdown",
      "metadata": {
        "id": "view-in-github",
        "colab_type": "text"
      },
      "source": [
        "<a href=\"https://colab.research.google.com/github/Diego-1099/Colabfiles/blob/main/Untitled2.ipynb\" target=\"_parent\"><img src=\"https://colab.research.google.com/assets/colab-badge.svg\" alt=\"Open In Colab\"/></a>"
      ]
    },
    {
      "cell_type": "markdown",
      "source": [
        "# **Ejemplo de conexión de Google Drive a Google Colab**"
      ],
      "metadata": {
        "id": "3iRfdZq7jzqD"
      }
    },
    {
      "cell_type": "code",
      "source": [
        "print('Hola, que tal')"
      ],
      "metadata": {
        "colab": {
          "base_uri": "https://localhost:8080/"
        },
        "id": "yc8gxGozkEIi",
        "outputId": "64cfc2d1-6069-47f6-bc0b-c44d0b2231e8"
      },
      "execution_count": 1,
      "outputs": [
        {
          "output_type": "stream",
          "name": "stdout",
          "text": [
            "Hola, que tal\n"
          ]
        }
      ]
    },
    {
      "cell_type": "code",
      "source": [
        "print('Hola')"
      ],
      "metadata": {
        "id": "f5C0XgxPnP5A"
      },
      "execution_count": null,
      "outputs": []
    }
  ]
}