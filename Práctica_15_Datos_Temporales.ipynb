{
  "nbformat": 4,
  "nbformat_minor": 0,
  "metadata": {
    "colab": {
      "provenance": [],
      "authorship_tag": "ABX9TyNgQnTu+dXy8iJgqzi2dy6V",
      "include_colab_link": true
    },
    "kernelspec": {
      "name": "python3",
      "display_name": "Python 3"
    },
    "language_info": {
      "name": "python"
    }
  },
  "cells": [
    {
      "cell_type": "markdown",
      "metadata": {
        "id": "view-in-github",
        "colab_type": "text"
      },
      "source": [
        "<a href=\"https://colab.research.google.com/github/Diego-1099/Colabfiles/blob/main/Pr%C3%A1ctica_15_Datos_Temporales.ipynb\" target=\"_parent\"><img src=\"https://colab.research.google.com/assets/colab-badge.svg\" alt=\"Open In Colab\"/></a>"
      ]
    },
    {
      "cell_type": "code",
      "execution_count": 9,
      "metadata": {
        "colab": {
          "base_uri": "https://localhost:8080/"
        },
        "id": "XsykqTn_TNPD",
        "outputId": "d0f22287-cd0c-4ee7-e695-c7412525fabb"
      },
      "outputs": [
        {
          "output_type": "stream",
          "name": "stdout",
          "text": [
            "Drive already mounted at /content/drive; to attempt to forcibly remount, call drive.mount(\"/content/drive\", force_remount=True).\n"
          ]
        }
      ],
      "source": [
        "from google.colab import drive\n",
        "drive.mount('/content/drive')"
      ]
    },
    {
      "cell_type": "markdown",
      "source": [
        "# ***Ejercicio 01: Tipo de Datos Correctos***\n",
        "\n",
        "  1. Carga el conjunto de datos airdata.csv y verifica que cada columna tenga el tipo de dato correcto.\n",
        "  2. Si una columna de tipo temporal no esta en el tipo de correcto realiza la conversión.\n",
        "  3. Usa dtypes para mostrar que cada columna, principalmente la que contiene datos temporales, esta en el tipo de datos correcto.\n",
        "  4. Imprime las primeras tres líneas."
      ],
      "metadata": {
        "id": "hsxZluRrTZwk"
      }
    },
    {
      "cell_type": "code",
      "source": [
        "import pandas as pd\n",
        "\n",
        "df = pd.read_csv('/content/drive/MyDrive/ClassFiles/Airdata.csv')\n",
        "\n",
        "df['DateTime'] = pd.to_datetime(df['DateTime'])\n",
        "print('-------------------------------------------------')\n",
        "print(df.dtypes)\n",
        "print('-------------------------------------------------')\n",
        "print(df.head(3))\n",
        "print('-------------------------------------------------')"
      ],
      "metadata": {
        "id": "EMbkG0YLTW_V"
      },
      "execution_count": null,
      "outputs": []
    },
    {
      "cell_type": "markdown",
      "source": [
        "# ***Ejercicio 02: Extraer componentes de fecha y tiempo***\n",
        "\n",
        "  1. De la columna 'DateTime' extrae el año, mes, día y hora. Crea una nueva columna para cada componente que extraes.\n",
        "  2. Imprime las primeras tres líneas del dataframe que ahora deberá tener 4 nuevas columnas."
      ],
      "metadata": {
        "id": "bpzdLPgLaXxT"
      }
    },
    {
      "cell_type": "code",
      "source": [
        "df['Year'] = df['DateTime'].dt.year\n",
        "df['Month'] = df['DateTime'].dt.month\n",
        "df['Day'] = df['DateTime'].dt.day\n",
        "df['Hour'] = df['DateTime'].dt.hour\n",
        "\n",
        "print(df.head(3))"
      ],
      "metadata": {
        "id": "z0tJ3NywbWKx"
      },
      "execution_count": null,
      "outputs": []
    },
    {
      "cell_type": "markdown",
      "source": [
        "# ***Ejercicio 03: Aritmética - Suma de Intervalos (timedelta)***\n",
        "\n",
        "  *   Suma 10 días, 7 horas y 15 minutos a cada elemento de la columna 'DateTime'. Guarda el resultado en una nueva columna y agrega el dataframe.\n",
        "  *   Imprime la columna 'DateTime' y la columna que resulta de sumar 10 días, 7 horas y 15 minutos.\n",
        "\n"
      ],
      "metadata": {
        "id": "PQdxmOR7c2jP"
      }
    },
    {
      "cell_type": "code",
      "source": [
        "from datetime import timedelta\n",
        "\n",
        "df['DateTime_Updated'] = df['DateTime'] + timedelta (days = 10, hours = 7, minutes = 15)\n",
        "\n",
        "print(df[['DateTime', 'DateTime_Updated']].head(3))"
      ],
      "metadata": {
        "id": "LGx9xc7IdZkO"
      },
      "execution_count": null,
      "outputs": []
    },
    {
      "cell_type": "markdown",
      "source": [
        "# ***Ejercicio 04: Timestamp***\n",
        "\n",
        "  *   Convierte la columna 'DateTime' la cual tiene el formato de fecha legible a timestamp Unix. Guarda el resultado en una nueva columna.\n",
        "  *   Imprime las primeras tres filas de la columna 'DateTime' y la columna que representa dicha fecha en timestamp Unix."
      ],
      "metadata": {
        "id": "FW1rrBaXedOt"
      }
    },
    {
      "cell_type": "code",
      "source": [
        "df['Timestamp'] = df['DateTime'].astype('int64') // 10**9\n",
        "\n",
        "print(df[['DateTime', 'Timestamp']].head(3))"
      ],
      "metadata": {
        "id": "GTmXfJbZfBvf"
      },
      "execution_count": null,
      "outputs": []
    },
    {
      "cell_type": "markdown",
      "source": [
        "# ***Ejercicio 05: Filtrado de Fechas***\n",
        "\n",
        "  *   Utiliza la columna 'DateTime' y Filtra aquellas fechas que son mayores a 2020-11-01.\n",
        "  *   Imprime el resultado."
      ],
      "metadata": {
        "id": "plDTakYtlYRD"
      }
    },
    {
      "cell_type": "code",
      "source": [
        "df_filtered = df[df['DateTime'] > '2020-11-01']\n",
        "\n",
        "print(df_filtered)"
      ],
      "metadata": {
        "id": "NaJRBzQPmg0D"
      },
      "execution_count": null,
      "outputs": []
    }
  ]
}