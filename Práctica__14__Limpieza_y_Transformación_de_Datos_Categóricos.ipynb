{
  "nbformat": 4,
  "nbformat_minor": 0,
  "metadata": {
    "colab": {
      "provenance": [],
      "authorship_tag": "ABX9TyN2BCUBd/Dtkz9MWFEr80hc",
      "include_colab_link": true
    },
    "kernelspec": {
      "name": "python3",
      "display_name": "Python 3"
    },
    "language_info": {
      "name": "python"
    }
  },
  "cells": [
    {
      "cell_type": "markdown",
      "metadata": {
        "id": "view-in-github",
        "colab_type": "text"
      },
      "source": [
        "<a href=\"https://colab.research.google.com/github/Diego-1099/Colabfiles/blob/main/Pr%C3%A1ctica__14__Limpieza_y_Transformaci%C3%B3n_de_Datos_Categ%C3%B3ricos.ipynb\" target=\"_parent\"><img src=\"https://colab.research.google.com/assets/colab-badge.svg\" alt=\"Open In Colab\"/></a>"
      ]
    },
    {
      "cell_type": "code",
      "execution_count": 1,
      "metadata": {
        "colab": {
          "base_uri": "https://localhost:8080/"
        },
        "id": "AjdRTGiZzFm_",
        "outputId": "cfe1cbf9-6201-4358-bba3-81e7de361f03"
      },
      "outputs": [
        {
          "output_type": "stream",
          "name": "stdout",
          "text": [
            "Mounted at /content/drive\n"
          ]
        }
      ],
      "source": [
        "from google.colab import drive\n",
        "drive.mount('/content/drive')"
      ]
    },
    {
      "cell_type": "markdown",
      "source": [
        "# ***Ejercicio 01: Errores Tipográficos y Valores Inconsistentes: maritalstatus***\n",
        "\n",
        "1. Imprime de la columna 'maritalstatus' los valores unicos.\n",
        "2. Imprime la frecuencia de cada valor único.\n",
        "3. Cambia el valor 'Never-Married' a 'Single'.\n",
        "4. Imprime la frecuencia de cada valor único."
      ],
      "metadata": {
        "id": "7e_7aHtH0UYU"
      }
    },
    {
      "cell_type": "code",
      "source": [
        "import pandas as pd\n",
        "import numpy as np\n",
        "\n",
        "\n",
        "df = pd.read_csv('/content/drive/MyDrive/Unidad02/nls97.csv')\n",
        "\n",
        "\n",
        "print(\"Valores únicos de 'maritalstatus':\")\n",
        "print(df['maritalstatus'].unique())\n",
        "\n",
        "print(\"\\nFrecuencia de cada valor único en 'maritalstatus':\")\n",
        "print(df['maritalstatus'].value_counts())\n",
        "\n",
        "print('--------------------------------------------------')\n",
        "\n",
        "df['maritalstatus'] = df['maritalstatus'].replace('Never-married', 'Single')\n",
        "\n",
        "print(\"\\nValores únicos de 'maritalstatus' después de la modificación:\")\n",
        "print(df['maritalstatus'].value_counts())"
      ],
      "metadata": {
        "id": "QZG3wTfXzg39"
      },
      "execution_count": null,
      "outputs": []
    },
    {
      "cell_type": "markdown",
      "source": [
        "# ***Ejercicio 2: Errores Tipográficos y Valores Inconsistentes: highestdegree.***\n",
        "\n",
        "1. Imprime de la columna 'highestdegree' los valores únicos.\n",
        "2. Imprime la frecuencia de cada valor único.\n",
        "3. Observa que cada valor categórico empieza con 0. Modifica las categorías para que todas estén en minúsculas y ninguna empiece con un número. Por ejemplo, si dice '2. High School', debería ser 'high school'.\n",
        "4. Los cambios se realizarán en la misma columna 'highestdegrees'.\n",
        "5. Imprime los nuevos valores únicos."
      ],
      "metadata": {
        "id": "YG4qvYNY89Oo"
      }
    },
    {
      "cell_type": "code",
      "source": [
        "print(\"Valores únicos de 'highestdegree':\")\n",
        "print(df['highestdegree'].unique())\n",
        "\n",
        "print(\"\\nFrecuencia de cada valor único en 'highestdegree':\")\n",
        "print(df['highestdegree'].value_counts())\n",
        "\n",
        "print('--------------------------------------------------')\n",
        "\n",
        "df['highestdegree'] = df['highestdegree'].str.replace('\\d+\\. ', '', regex = True).str.lower()\n",
        "\n",
        "print(\"\\nValores únicos de 'highestdegree' después de la modificación:\")\n",
        "\n",
        "print(df['highestdegree'].unique())\n",
        "print('--------------------------------------------------')\n"
      ],
      "metadata": {
        "id": "6qd-3DXb-qI2"
      },
      "execution_count": null,
      "outputs": []
    },
    {
      "cell_type": "markdown",
      "source": [
        "# ***Ejercicio 3: Alta Cardinalidad - Frecuencias Bajas***\n",
        "\n",
        "\n",
        "\n",
        "*   De la columna 'maritalstatus' une las categorías 'Widowed' y 'Single' en una categoría más general llamada 'Single/No Partner'. Crea una nueva columna, 'marital_grouped' donde aparezcan las nuevas categorías de maritalstatus.\n",
        "*   Imprime los valores únicos de la nueva columna 'marital_grouped'.\n",
        "*   Imprime la frecuencia de los valores únicos de la nueva columna 'marital_groyped'.\n",
        "\n"
      ],
      "metadata": {
        "id": "tWZndF89BAAc"
      }
    },
    {
      "cell_type": "code",
      "source": [
        "df['marital_grouped'] = df['maritalstatus'].replace({'Widowed' : 'Single/No Partner', 'Single': 'Single/No Partner'})\n",
        "\n",
        "print(\"Valores únicos de 'marital_grouped':\")\n",
        "print('\\n', df['marital_grouped'].unique())\n",
        "\n",
        "print(\"\\nFrecuencia de cada valor único en 'marital_grouped':\")\n",
        "print('\\n', df['marital_grouped'].value_counts())\n",
        "\n",
        "print('--------------------------------------------------')"
      ],
      "metadata": {
        "id": "MRft8y30B7li"
      },
      "execution_count": null,
      "outputs": []
    },
    {
      "cell_type": "markdown",
      "source": [
        "# ***Ejercicio 4: Tipos de Datos***\n",
        "\n",
        "\n",
        "\n",
        "*   Imprime los tipos de datos de la columna gender.\n",
        "*   Imprime la cantidad de bytes de dicha columna.\n",
        "*   Si la columna es de tipo object, modifica a category.\n",
        "*   En caso de haber realizado la modificación del tipo de datos, imprime la cantidad de bytes que ocupa dicha columna con el nuevo tipo de datos.\n",
        "\n"
      ],
      "metadata": {
        "id": "ASjhJG5iDk7e"
      }
    },
    {
      "cell_type": "code",
      "source": [
        "print(\"Tipo de datos de la columna 'gender':\")\n",
        "print(df['gender'].dtype)\n",
        "\n",
        "print(\"\\nCantidad de bytes de la columna 'gender':\")\n",
        "print(df['gender'].memory_usage(deep = True))\n",
        "\n",
        "print('--------------------------------------------------')\n",
        "\n",
        "if df['gender'].dtype == 'object':\n",
        "  df['gender'] = df['gender'].astype('category')\n",
        "  print(\"\\nNuevo Tipo de datos de la columna 'gender':\")\n",
        "  print(df['gender'].dtype)\n",
        "\n",
        "  print(\"\\nCantidad de bytes de la columna 'gender' con el nuevo tipo de datos:\")\n",
        "  print(df['gender'].memory_usage(deep = True))"
      ],
      "metadata": {
        "id": "6lLFxS9gEEMl"
      },
      "execution_count": null,
      "outputs": []
    }
  ]
}