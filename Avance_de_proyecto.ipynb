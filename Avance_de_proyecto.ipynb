{
  "nbformat": 4,
  "nbformat_minor": 0,
  "metadata": {
    "colab": {
      "provenance": [],
      "authorship_tag": "ABX9TyOgKiA3aCKEIXOEy/Vb4AwA",
      "include_colab_link": true
    },
    "kernelspec": {
      "name": "python3",
      "display_name": "Python 3"
    },
    "language_info": {
      "name": "python"
    }
  },
  "cells": [
    {
      "cell_type": "markdown",
      "metadata": {
        "id": "view-in-github",
        "colab_type": "text"
      },
      "source": [
        "<a href=\"https://colab.research.google.com/github/Diego-1099/Colabfiles/blob/main/Avance_de_proyecto.ipynb\" target=\"_parent\"><img src=\"https://colab.research.google.com/assets/colab-badge.svg\" alt=\"Open In Colab\"/></a>"
      ]
    },
    {
      "cell_type": "code",
      "execution_count": null,
      "metadata": {
        "colab": {
          "base_uri": "https://localhost:8080/"
        },
        "id": "qFfTXft9Guzj",
        "outputId": "a38c7242-a0e2-412a-816c-86c6b6c0cac5"
      },
      "outputs": [
        {
          "output_type": "stream",
          "name": "stdout",
          "text": [
            "Drive already mounted at /content/drive; to attempt to forcibly remount, call drive.mount(\"/content/drive\", force_remount=True).\n"
          ]
        }
      ],
      "source": [
        "from google.colab import drive\n",
        "drive.mount('/content/drive')"
      ]
    },
    {
      "cell_type": "markdown",
      "source": [
        "# ***Limpieza y Transformación de Datos***"
      ],
      "metadata": {
        "id": "3lePzy80I3Lq"
      }
    },
    {
      "cell_type": "markdown",
      "source": [
        "***Dataset Inicial:***"
      ],
      "metadata": {
        "id": "a0kFwf9uOVlm"
      }
    },
    {
      "cell_type": "code",
      "source": [
        "import pandas as pd\n",
        "\n",
        "df = pd.read_csv('/content/drive/MyDrive/Project/Datasets/LoanData_Raw_v1.0.csv')\n",
        "\n",
        "print('-------------------------------------------------------------------------')\n",
        "print('Vista previa del dataset:')\n",
        "print(df.head(5))\n",
        "\n",
        "print('-------------------------------------------------------------------------')\n",
        "print('Cantidad de datos perdidos por columna:')\n",
        "print(df.isnull().sum())\n",
        "\n",
        "print('-------------------------------------------------------------------------')\n",
        "print('Información general del dataset:')\n",
        "df.info()\n",
        "\n",
        "print('-------------------------------------------------------------------------')\n",
        "print('Descripción estadística del dataset:')\n",
        "print(df.describe())\n",
        "\n",
        "print('-------------------------------------------------------------------------')\n",
        "print(\"Valores únicos en la columna 'default':\")\n",
        "print(df['default'].unique())\n",
        "\n",
        "print('-------------------------------------------------------------------------')\n",
        "print(\"Frecuencia de combinaciones entre 'ed' y 'default':\")\n",
        "print(pd.crosstab(df['ed'], df['default']))\n",
        "\n",
        "print('-------------------------------------------------------------------------')\n",
        "df.value_counts(['age'])"
      ],
      "metadata": {
        "collapsed": true,
        "id": "1VpdGWAmHIiB"
      },
      "execution_count": null,
      "outputs": []
    },
    {
      "cell_type": "markdown",
      "source": [
        "***Modificación del Dataset:***"
      ],
      "metadata": {
        "id": "ekJaNqDJntBk"
      }
    },
    {
      "cell_type": "code",
      "source": [
        "# Eliminar registros con datos faltantes.\n",
        "df = df.dropna()\n",
        "\n",
        "# Estandarizar la columna 'default' para que solo contenga 0 y 1.\n",
        "df['default'] = df['default'].replace({\"'0'\": 0, \":0\": 0})\n",
        "\n",
        "# Estandarizar los tipos de datos.\n",
        "df['age'] = df['age'].astype(int)\n",
        "df['ed'] = df['ed'].astype(int)\n",
        "df['employ'] = df['employ'].astype(int)\n",
        "df['address'] = df['address'].astype(int)\n",
        "df['income'] = df['income'].astype(float)\n",
        "df['debtinc'] = df['debtinc'].astype(float)\n",
        "df['creddebt'] = df['creddebt'].astype(float)\n",
        "df['othdebt'] = df['othdebt'].astype(float)\n",
        "df['default'] = df['default'].astype(int)\n",
        "\n",
        "# Redondear los valores flotantes a 4 decimales.\n",
        "df[['income', 'debtinc', 'creddebt', 'othdebt']] = df[['income', 'debtinc', 'creddebt', 'othdebt']].round(4)\n",
        "\n",
        "\n",
        "# Eliminar el dato atípico de 'age' (136).\n",
        "df = df[df['age'] != 136]\n",
        "\n",
        "\n",
        "df.info()\n",
        "print(df.head(5))"
      ],
      "metadata": {
        "id": "KQIVNGCbn2WU"
      },
      "execution_count": null,
      "outputs": []
    },
    {
      "cell_type": "markdown",
      "source": [
        "***Dataset Inicial:***"
      ],
      "metadata": {
        "id": "i9rOSNM3q7ed"
      }
    },
    {
      "cell_type": "code",
      "source": [
        "print('-------------------------------------------------------------------------')\n",
        "print('Vista previa del dataset:')\n",
        "print(df.head(5))\n",
        "\n",
        "print('-------------------------------------------------------------------------')\n",
        "print('Cantidad de datos perdidos por columna:')\n",
        "print(df.isnull().sum())\n",
        "\n",
        "print('-------------------------------------------------------------------------')\n",
        "print('Información general del dataset:')\n",
        "df.info()\n",
        "\n",
        "print('-------------------------------------------------------------------------')\n",
        "print('Descripción estadística del dataset:')\n",
        "print(df.describe())\n",
        "\n",
        "print('-------------------------------------------------------------------------')\n",
        "print(\"Valores únicos en la columna 'default':\")\n",
        "print(df['default'].unique())\n",
        "\n",
        "print('-------------------------------------------------------------------------')\n",
        "print(\"Frecuencia de combinaciones entre 'ed' y 'default':\")\n",
        "print(pd.crosstab(df['ed'], df['default']))\n",
        "\n",
        "print('-------------------------------------------------------------------------')\n",
        "print(df.value_counts(['default']))\n",
        "print(df.value_counts(['income']))\n"
      ],
      "metadata": {
        "id": "w_tdqEJLq7wt"
      },
      "execution_count": null,
      "outputs": []
    }
  ]
}