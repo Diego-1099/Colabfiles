{
  "nbformat": 4,
  "nbformat_minor": 0,
  "metadata": {
    "colab": {
      "provenance": [],
      "mount_file_id": "1tLY6wlQcHBtJauUx-m5Ueo0DPs5eE0xP",
      "authorship_tag": "ABX9TyNNgHbpRn6v0IsDZC47eDjR",
      "include_colab_link": true
    },
    "kernelspec": {
      "name": "python3",
      "display_name": "Python 3"
    },
    "language_info": {
      "name": "python"
    }
  },
  "cells": [
    {
      "cell_type": "markdown",
      "metadata": {
        "id": "view-in-github",
        "colab_type": "text"
      },
      "source": [
        "<a href=\"https://colab.research.google.com/github/Diego-1099/Colabfiles/blob/main/Practica_6__Manejo_de_libreria_pandas.ipynb\" target=\"_parent\"><img src=\"https://colab.research.google.com/assets/colab-badge.svg\" alt=\"Open In Colab\"/></a>"
      ]
    },
    {
      "cell_type": "markdown",
      "source": [
        "# Manejo de libreria **Pandas**"
      ],
      "metadata": {
        "id": "74dfq2nY_OvI"
      }
    },
    {
      "cell_type": "code",
      "execution_count": null,
      "metadata": {
        "colab": {
          "base_uri": "https://localhost:8080/"
        },
        "id": "aHakNor5_Kyu",
        "outputId": "db5186c1-ba63-4c1b-df5c-dee7072d5992"
      },
      "outputs": [
        {
          "output_type": "stream",
          "name": "stdout",
          "text": [
            "   PassengerId  Survived  Pclass  \\\n",
            "0            1         0       3   \n",
            "1            2         1       1   \n",
            "2            3         1       3   \n",
            "3            4         1       1   \n",
            "4            5         0       3   \n",
            "\n",
            "                                                Name     Sex   Age  SibSp  \\\n",
            "0                            Braund, Mr. Owen Harris    male  22.0      1   \n",
            "1  Cumings, Mrs. John Bradley (Florence Briggs Th...  female  38.0      1   \n",
            "2                             Heikkinen, Miss. Laina  female  26.0      0   \n",
            "3       Futrelle, Mrs. Jacques Heath (Lily May Peel)  female  35.0      1   \n",
            "4                           Allen, Mr. William Henry    male  35.0      0   \n",
            "\n",
            "   Parch            Ticket     Fare Cabin Embarked  \n",
            "0      0         A/5 21171   7.2500   NaN        S  \n",
            "1      0          PC 17599  71.2833   C85        C  \n",
            "2      0  STON/O2. 3101282   7.9250   NaN        S  \n",
            "3      0            113803  53.1000  C123        S  \n",
            "4      0            373450   8.0500   NaN        S  \n"
          ]
        }
      ],
      "source": [
        "import pandas as pd\n",
        "\n",
        "df = pd.read_csv('/content/drive/MyDrive/ClassFiles/Titanic-Dataset.csv')\n",
        "print(df.head())"
      ]
    },
    {
      "cell_type": "markdown",
      "source": [
        "Ejercicio 1: Análisis de la distribución de supervivencia por combinación de sexo y clase del pasajero.\n",
        "\n",
        "\n",
        "\n",
        "*   Calcula la proporción de supervivencia para cada combinación de 'Sex' y 'Pclass'.\n",
        "*   Identifica qué combinación tuvo la tasa de supervivencia más alta.\n",
        "\n",
        "*   Identifica qué combinación tuvo la tasa de supervivencia más baja."
      ],
      "metadata": {
        "id": "6ay1DOF-ATKr"
      }
    },
    {
      "cell_type": "code",
      "source": [
        "proporcion_supervivencia = df.groupby(['Sex', 'Pclass'])['Survived'].mean()\n",
        "\n",
        "proporcion_mas_alta = proporcion_supervivencia.idxmax(), proporcion_supervivencia.max()\n",
        "proporcion_mas_baja = proporcion_supervivencia.idxmin(), proporcion_supervivencia.min()\n",
        "\n",
        "print('-----------------------------')\n",
        "print('Proporción de supervivencia por cada combinación de sexo y clase del pasajero: ')\n",
        "print(proporcion_supervivencia)\n",
        "print('-----------------------------')\n",
        "print('Proporción de supervivencia más alta: ')\n",
        "print(proporcion_mas_alta)\n",
        "print('-----------------------------')\n",
        "print('Proporción de supervivencia más baja: ')\n",
        "print(proporcion_mas_baja)\n",
        "print('-----------------------------')\n"
      ],
      "metadata": {
        "colab": {
          "base_uri": "https://localhost:8080/"
        },
        "id": "tgYANNcA_1-z",
        "outputId": "98e3bf15-c4d5-439b-cf81-d632c171a325"
      },
      "execution_count": null,
      "outputs": [
        {
          "output_type": "stream",
          "name": "stdout",
          "text": [
            "-----------------------------\n",
            "Proporción de supervivencia por cada combinación de sexo y clase del pasajero: \n",
            "Sex     Pclass\n",
            "female  1         0.968085\n",
            "        2         0.921053\n",
            "        3         0.500000\n",
            "male    1         0.368852\n",
            "        2         0.157407\n",
            "        3         0.135447\n",
            "Name: Survived, dtype: float64\n",
            "-----------------------------\n",
            "Proporción de supervivencia más alta: \n",
            "(('female', 1), 0.9680851063829787)\n",
            "-----------------------------\n",
            "Proporción de supervivencia más baja: \n",
            "(('male', 3), 0.13544668587896252)\n",
            "-----------------------------\n"
          ]
        }
      ]
    },
    {
      "cell_type": "markdown",
      "source": [
        "Ejercicio 2: Identificación de familias grandes a bordo.\n",
        "\n",
        "*   Crea una nueva columna 'FamilySize' sumando las columnas 'SibSp' y 'Parch'.\n",
        "\n",
        "*   Considera como \"familia grande\" a aquellas donde 'FamilySize' es mayor a 3.\n",
        "\n",
        "*   Calcula el número de pasajeros en familias grandes.\n",
        "\n",
        "*   Calcula la proporción de supervivencia entre los pasajeros que pertenecen a familias grandes."
      ],
      "metadata": {
        "id": "_RNYZoyfCU0F"
      }
    },
    {
      "cell_type": "code",
      "source": [
        "df['FamilySize'] = df['SibSp'] + df['Parch']\n",
        "familias_grandes = df[df['FamilySize'] > 3]\n",
        "numero_familias_grandes = len(familias_grandes)\n",
        "proporcion_supervivencia_familias_grandes = familias_grandes['Survived'].mean()\n",
        "\n",
        "print('-------------------------------------------')\n",
        "print('Número de pasajeros en familias grandes: ', numero_familias_grandes)\n",
        "print('-------------------------------------------')\n",
        "print('Proporción de supervivencia en familias grandes: ', proporcion_supervivencia_familias_grandes)\n",
        "print('-------------------------------------------')"
      ],
      "metadata": {
        "colab": {
          "base_uri": "https://localhost:8080/"
        },
        "id": "YJpt-NDjCYcL",
        "outputId": "e519e2b4-fb86-4df7-8129-0e3cda41a018"
      },
      "execution_count": 14,
      "outputs": [
        {
          "output_type": "stream",
          "name": "stdout",
          "text": [
            "-------------------------------------------\n",
            "Número de pasajeros en familias grandes:  62\n",
            "-------------------------------------------\n",
            "Proporción de supervivencia en familias grandes:  0.16129032258064516\n",
            "-------------------------------------------\n"
          ]
        }
      ]
    },
    {
      "cell_type": "markdown",
      "source": [
        "Ejercicio 3: Segmentación por grupos de edad.\n",
        "\n",
        "*   Clasifica a los pasajeros en las siguientes categorías de edad(tip puede resultar mas sencillo realizarlo con una función)\n",
        "*   Menor de Edad\n",
        "*   Mayor de Edad"
      ],
      "metadata": {
        "id": "grrd5q9yD96-"
      }
    },
    {
      "cell_type": "code",
      "source": [
        "def categorias_edad(age):\n",
        "  if age < 18:\n",
        "    return 'Menor de Edad'\n",
        "  else:\n",
        "    return 'Mayor de Edad'\n",
        "\n",
        "df['grupo_edad'] = df['Age'].apply(categorias_edad)\n",
        "\n",
        "distribucion_edad = df['grupo_edad'].value_counts()\n",
        "\n",
        "print('-------------------------------------------')\n",
        "print('Distribución de pasajeros por grupo de edad: ', distribucion_edad)\n",
        "print('-------------------------------------------')\n"
      ],
      "metadata": {
        "colab": {
          "base_uri": "https://localhost:8080/"
        },
        "id": "mVX5HxBTETCM",
        "outputId": "ecf8c235-b4d5-4caa-9496-c9d368d30404"
      },
      "execution_count": 16,
      "outputs": [
        {
          "output_type": "stream",
          "name": "stdout",
          "text": [
            "-------------------------------------------\n",
            "Distribución de pasajeros por grupo de edad:  grupo_edad\n",
            "Mayor de Edad    778\n",
            "Menor de Edad    113\n",
            "Name: count, dtype: int64\n",
            "-------------------------------------------\n"
          ]
        }
      ]
    },
    {
      "cell_type": "markdown",
      "source": [
        "Ejercicio 4: Comparación entre promedios calculados manualmente y con Pandas\n",
        "\n",
        "\n",
        "*   Utiliza NumPy para calcular el promedio de las columnas 'Age' y 'Fare', ignorando valores nulos.\n",
        "*   Compara estos valores con los promedios obtenidos utilizando los métodos nativos de Pandas.\n",
        "*   Verifica que los resultados sean consistentes.\n",
        "\n"
      ],
      "metadata": {
        "id": "dnrfDFFkFWUi"
      }
    },
    {
      "cell_type": "code",
      "source": [
        "import numpy as np\n",
        "\n",
        "promedio_edad_np = np.mean(df['Age'])\n",
        "promedio_fare_np = np.mean(df['Fare'])\n",
        "\n",
        "promedio_edad_pd = df['Age'].mean()\n",
        "promedio_fare_pd = df['Fare'].mean()\n",
        "\n",
        "print('-------------------------------------------')\n",
        "print('Promedio de edad utilizando NumPy: ', promedio_edad_np)\n",
        "print('-------------------------------------------')\n",
        "print('Promedio de edad utilizando Pandas: ', promedio_edad_pd)\n",
        "print('-------------------------------------------')\n",
        "print('Promedio de fare utilizando NumPy: ', promedio_fare_np)\n",
        "print('-------------------------------------------')\n",
        "print('Promedio de fare utilizando Pandas: ', promedio_fare_pd)\n",
        "print('-------------------------------------------')\n"
      ],
      "metadata": {
        "colab": {
          "base_uri": "https://localhost:8080/"
        },
        "id": "2D1khUrQFi0U",
        "outputId": "2264b278-9b7a-48ec-facf-ef284b5146f8"
      },
      "execution_count": 18,
      "outputs": [
        {
          "output_type": "stream",
          "name": "stdout",
          "text": [
            "-------------------------------------------\n",
            "Promedio de edad utilizando NumPy:  29.69911764705882\n",
            "-------------------------------------------\n",
            "Promedio de edad utilizando Pandas:  29.69911764705882\n",
            "-------------------------------------------\n",
            "Promedio de fare utilizando NumPy:  32.204207968574636\n",
            "-------------------------------------------\n",
            "Promedio de fare utilizando Pandas:  32.204207968574636\n",
            "-------------------------------------------\n"
          ]
        }
      ]
    },
    {
      "cell_type": "markdown",
      "source": [
        "Ejercicio 5. Creación de intervalos de clase usando NumPy y análisis con Pandas\n",
        "\n",
        "\n",
        "*   Divide la columna 'Fare' en 5 intervalos equidistantes utilizando la función numpy.linspace, el estudiante deberá investigar la operación de esta función en python.\n",
        "*   Crea una nueva columna en el DataFrame que asigne a cada pasajero el intervalo correspondiente de su tarifa.\n",
        "*   Calcula el número de pasajeros en cada intervalo utilizando Pandas y la proporción de supervivientes por intervalo."
      ],
      "metadata": {
        "id": "Qp0B68IIGdKT"
      }
    },
    {
      "cell_type": "code",
      "source": [
        "intervalos_fare = np.linspace(df['Fare'].min(), df['Fare'].max(), 6)\n",
        "\n",
        "df['intervalos_fare'] = pd.cut(df['Fare'], intervalos_fare)\n",
        "\n",
        "conteo_intervalos = df['intervalos_fare'].value_counts()\n",
        "\n",
        "proporcion_supervivencia_cada_intervalo = df.groupby('intervalos_fare')['Survived'].mean()\n",
        "\n",
        "print('-------------------------------------------')\n",
        "print('Número de pasajeros en cada intervalo de fare: ', conteo_intervalos)\n",
        "print('-------------------------------------------')\n",
        "print('Proporción de supervivencia por intervalo de fare: ', proporcion_supervivencia_cada_intervalo)\n",
        "print('-------------------------------------------')"
      ],
      "metadata": {
        "colab": {
          "base_uri": "https://localhost:8080/"
        },
        "id": "526fhNusHiAu",
        "outputId": "5d9f97c3-639a-46f3-c2e1-c48f0f49decc"
      },
      "execution_count": 23,
      "outputs": [
        {
          "output_type": "stream",
          "name": "stdout",
          "text": [
            "-------------------------------------------\n",
            "Número de pasajeros en cada intervalo de fare:  intervalos_fare\n",
            "(0.0, 102.466]        823\n",
            "(102.466, 204.932]     33\n",
            "(204.932, 307.398]     17\n",
            "(409.863, 512.329]      3\n",
            "(307.398, 409.863]      0\n",
            "Name: count, dtype: int64\n",
            "-------------------------------------------\n",
            "Proporción de supervivencia por intervalo de fare:  intervalos_fare\n",
            "(0.0, 102.466]        0.366950\n",
            "(102.466, 204.932]    0.757576\n",
            "(204.932, 307.398]    0.647059\n",
            "(307.398, 409.863]         NaN\n",
            "(409.863, 512.329]    1.000000\n",
            "Name: Survived, dtype: float64\n",
            "-------------------------------------------\n"
          ]
        },
        {
          "output_type": "stream",
          "name": "stderr",
          "text": [
            "<ipython-input-23-9d33d7de5d3c>:7: FutureWarning: The default of observed=False is deprecated and will be changed to True in a future version of pandas. Pass observed=False to retain current behavior or observed=True to adopt the future default and silence this warning.\n",
            "  proporcion_supervivencia_cada_intervalo = df.groupby('intervalos_fare')['Survived'].mean()\n"
          ]
        }
      ]
    }
  ]
}