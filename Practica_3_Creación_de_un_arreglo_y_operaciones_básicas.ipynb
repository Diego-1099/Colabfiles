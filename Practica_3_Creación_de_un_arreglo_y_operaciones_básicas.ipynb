{
  "nbformat": 4,
  "nbformat_minor": 0,
  "metadata": {
    "colab": {
      "provenance": [],
      "authorship_tag": "ABX9TyPg8FTUtcESu+hHhbJh6JcG",
      "include_colab_link": true
    },
    "kernelspec": {
      "name": "python3",
      "display_name": "Python 3"
    },
    "language_info": {
      "name": "python"
    }
  },
  "cells": [
    {
      "cell_type": "markdown",
      "metadata": {
        "id": "view-in-github",
        "colab_type": "text"
      },
      "source": [
        "<a href=\"https://colab.research.google.com/github/Diego-1099/Colabfiles/blob/main/Practica_3_Creaci%C3%B3n_de_un_arreglo_y_operaciones_b%C3%A1sicas.ipynb\" target=\"_parent\"><img src=\"https://colab.research.google.com/assets/colab-badge.svg\" alt=\"Open In Colab\"/></a>"
      ]
    },
    {
      "cell_type": "markdown",
      "source": [
        "# **Creación de un arreglo y operaciones básicas**"
      ],
      "metadata": {
        "id": "ep1yeLET1Bxp"
      }
    },
    {
      "cell_type": "code",
      "source": [
        "import numpy as np\n",
        "\n",
        "arreglo = np.random.randint(1, 101, 20)\n",
        "\n",
        "valor_maximo = np.max(arreglo)\n",
        "valor_minimo = np.min(arreglo)\n",
        "media_arreglo = np.mean(arreglo)\n",
        "\n",
        "arreglo_2 = []\n",
        "for i in arreglo:\n",
        "    arreglo_2.append(i+10)\n",
        "\n",
        "\n",
        "print('------------------------------------------')\n",
        "print('Arreglo Original')\n",
        "print(\"\\n Arreglo original:\", arreglo)\n",
        "print(\"\\n Valor máximo:\", valor_maximo)\n",
        "print(\"\\n Valor mínimo:\", valor_minimo)\n",
        "print(\"\\n Media del arreglo:\", media_arreglo)\n",
        "print('------------------------------------------')\n",
        "print('Arreglo +10')\n",
        "print(\"\\n Arreglo con valores +10:\", arreglo_2)\n",
        "print('------------------------------------------')"
      ],
      "metadata": {
        "colab": {
          "base_uri": "https://localhost:8080/"
        },
        "id": "qe5WPlaM1Jdl",
        "outputId": "2a4c5514-3b99-40cb-e14b-a5d4c672e984"
      },
      "execution_count": 8,
      "outputs": [
        {
          "output_type": "stream",
          "name": "stdout",
          "text": [
            "------------------------------------------\n",
            "Arreglo Original\n",
            "\n",
            " Arreglo original: [ 55  91  41  59  73  18  22  52  59  17  16  35  30  57 100   2  63  68\n",
            "  74  74]\n",
            "\n",
            " Valor máximo: 100\n",
            "\n",
            " Valor mínimo: 2\n",
            "\n",
            " Media del arreglo: 50.3\n",
            "------------------------------------------\n",
            "Arreglo +10\n",
            "\n",
            " Arreglo con valores +10: [65, 101, 51, 69, 83, 28, 32, 62, 69, 27, 26, 45, 40, 67, 110, 12, 73, 78, 84, 84]\n",
            "------------------------------------------\n"
          ]
        }
      ]
    }
  ]
}