{
  "nbformat": 4,
  "nbformat_minor": 0,
  "metadata": {
    "colab": {
      "provenance": [],
      "authorship_tag": "ABX9TyOBC8+RHbr1CqBs8Wm/2zDC",
      "include_colab_link": true
    },
    "kernelspec": {
      "name": "python3",
      "display_name": "Python 3"
    },
    "language_info": {
      "name": "python"
    }
  },
  "cells": [
    {
      "cell_type": "markdown",
      "metadata": {
        "id": "view-in-github",
        "colab_type": "text"
      },
      "source": [
        "<a href=\"https://colab.research.google.com/github/Diego-1099/Colabfiles/blob/main/Practica_5__Uso_de_m%C3%A1scaras_booleanas.ipynb\" target=\"_parent\"><img src=\"https://colab.research.google.com/assets/colab-badge.svg\" alt=\"Open In Colab\"/></a>"
      ]
    },
    {
      "cell_type": "markdown",
      "source": [
        "# **Uso de máscaras booleanas**"
      ],
      "metadata": {
        "id": "E8VmOmq58jl-"
      }
    },
    {
      "cell_type": "code",
      "execution_count": 6,
      "metadata": {
        "colab": {
          "base_uri": "https://localhost:8080/"
        },
        "id": "O00Qgp0N8iRr",
        "outputId": "deb643aa-dfb2-41e8-c202-1d8ac8c08e02"
      },
      "outputs": [
        {
          "output_type": "stream",
          "name": "stdout",
          "text": [
            "------------------------------------\n",
            "Arreglo : [48 37 19 49 23 38 40 47  8 18 46  4  8 50 15]\n",
            "------------------------------------\n",
            "Elementos mayores que 25 : [48 37 49 38 40 47 46 50]\n",
            "------------------------------------\n",
            "Cantidad de elementos mayores que 25 : 8\n",
            "------------------------------------\n"
          ]
        }
      ],
      "source": [
        "import numpy as np\n",
        "\n",
        "arreglo = np.random.randint(1,51,15)\n",
        "\n",
        "mask = arreglo > 25\n",
        "elementos_mayores_25 = arreglo[mask]\n",
        "cantidad_mayores_25 = np.sum(mask)\n",
        "\n",
        "print('------------------------------------')\n",
        "print('Arreglo :', arreglo)\n",
        "print('------------------------------------')\n",
        "print('Elementos mayores que 25 :', elementos_mayores_25)\n",
        "print('------------------------------------')\n",
        "print('Cantidad de elementos mayores que 25 :', cantidad_mayores_25)\n",
        "print('------------------------------------')"
      ]
    }
  ]
}