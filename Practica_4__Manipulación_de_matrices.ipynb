{
  "nbformat": 4,
  "nbformat_minor": 0,
  "metadata": {
    "colab": {
      "provenance": [],
      "authorship_tag": "ABX9TyPDinP76fa9RB6Kyb39tVmj",
      "include_colab_link": true
    },
    "kernelspec": {
      "name": "python3",
      "display_name": "Python 3"
    },
    "language_info": {
      "name": "python"
    }
  },
  "cells": [
    {
      "cell_type": "markdown",
      "metadata": {
        "id": "view-in-github",
        "colab_type": "text"
      },
      "source": [
        "<a href=\"https://colab.research.google.com/github/Diego-1099/Colabfiles/blob/main/Practica_4__Manipulaci%C3%B3n_de_matrices.ipynb\" target=\"_parent\"><img src=\"https://colab.research.google.com/assets/colab-badge.svg\" alt=\"Open In Colab\"/></a>"
      ]
    },
    {
      "cell_type": "markdown",
      "source": [
        "# **Manipulación de matrices**"
      ],
      "metadata": {
        "id": "mv-Rcu-F5Zna"
      }
    },
    {
      "cell_type": "code",
      "execution_count": 4,
      "metadata": {
        "colab": {
          "base_uri": "https://localhost:8080/"
        },
        "id": "6QM7hX8g5GTh",
        "outputId": "a07e5997-34a7-432d-a528-96c857bbf5a1"
      },
      "outputs": [
        {
          "output_type": "stream",
          "name": "stdout",
          "text": [
            "-------------------------------\n",
            "Matriz 1 :\n",
            " [[9 8 2]\n",
            " [5 9 5]\n",
            " [8 7 6]]\n",
            "-------------------------------\n",
            "Matriz 2 :\n",
            " [[ 5  5 10]\n",
            " [ 9  9  3]\n",
            " [ 5  9  2]]\n",
            "-------------------------------\n",
            "Suma :\n",
            " [[14 13 12]\n",
            " [14 18  8]\n",
            " [13 16  8]]\n",
            "-------------------------------\n",
            "Resta :\n",
            " [[ 4  3 -8]\n",
            " [-4  0  2]\n",
            " [ 3 -2  4]]\n",
            "-------------------------------\n",
            "Multiplicacion :\n",
            " [[18 16  4]\n",
            " [10 18 10]\n",
            " [16 14 12]]\n",
            "-------------------------------\n",
            "Multiplicacion de matrices :\n",
            " [[127 135 118]\n",
            " [131 151  87]\n",
            " [133 157 113]]\n"
          ]
        }
      ],
      "source": [
        "import numpy as np\n",
        "\n",
        "matriz1 = np.random.randint(1,11,(3,3))\n",
        "matriz2 = np.random.randint(1,11,(3,3))\n",
        "\n",
        "suma = matriz1 + matriz2\n",
        "resta = matriz1 - matriz2\n",
        "multiplicacion = matriz1 * 2\n",
        "multiplicacion_matrices = np.dot(matriz1, matriz2)\n",
        "\n",
        "print('-------------------------------')\n",
        "print('Matriz 1 :\\n',matriz1)\n",
        "print('-------------------------------')\n",
        "print('Matriz 2 :\\n', matriz2)\n",
        "print('-------------------------------')\n",
        "print('Suma :\\n', suma)\n",
        "print('-------------------------------')\n",
        "print('Resta :\\n', resta)\n",
        "print('-------------------------------')\n",
        "print('Multiplicacion :\\n', multiplicacion)\n",
        "print('-------------------------------')\n",
        "print('Multiplicacion de matrices :\\n', multiplicacion_matrices)\n"
      ]
    }
  ]
}